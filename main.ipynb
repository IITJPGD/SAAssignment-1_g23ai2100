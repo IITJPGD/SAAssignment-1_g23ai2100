{
 "cells": [
  {
   "cell_type": "markdown",
   "metadata": {
    "id": "efDyOXIbk14J"
   },
   "source": [
    "Course: Stream Analytics\n",
    "Team Size : At Most 2 students per team\n",
    "\n",
    "November 30, 2024\n",
    "\n",
    "Objective: Fetch, analyze and classify the data provided in the link given below:\n",
    "https://tools.netsa.cert.org/silk/referencedata.html#\n",
    "With the above data your task is to achieve following objectives:\n",
    "• Retrieve the data stream that represents only the TCP traffic flowing through the network. To do this,\n",
    "you should become familiar with the SiLK suite, a tool for analyzing the network and its components.\n",
    "• Classify nodes based on the amount of TCP traffic they process. For instance, you can group nodes that\n",
    "handle TCP traffic within a specific range, such as 10-100 packets per second, into one class. Use any\n",
    "two algorithms, say Very Fast Decision Trees (VFDT) and On Demand Classification, discussed in the\n",
    "lectures to perform this classification. During the demonstration, you should demonstrate the accuracy\n",
    "of your classification by sending a query that retrieves data from at least two different ranges.\n",
    "• Detect the anomaly in the fetched data. Anomalies are defined as the nodes which send large number of\n",
    "TCP packets per sec, say 1K per sec. You are free to define your own threshold based on your observation\n",
    "in the given data stream.\n",
    "Methodology: Before you start you assignment, you should make yourself comfortable with different tools\n",
    "involved in the SiLK suite. For this you should commence your learning process with the understanding basics\n",
    "of it, such as its retrieval commands for a small dataset, etc. I would suggest to refer to the following book for\n",
    "the same.\n",
    "https://tools.netsa.cert.org/silk/analysis-handbook.pdf\n",
    "Post this, you can proceed with the installation of the SiLK suite. For which you can refer to the following link\n",
    "https://tools.netsa.cert.org/silk/silk-on-box-deb.html\n",
    "For this assignment I would strongly suggest to use Ubuntu OS, with version ¿ 18.04, as most of the packages\n",
    "are developed such that they are compatible to it.\n",
    "Expected Output:\n",
    "• Screen shot of terminal showing the summary of TCP packet in SiLK suite.\n",
    "• Graphical representation of the classification and the anomaly detection. You can use python library, such\n",
    "as pyplot, to plot the result. Furthermore, you are free to plot any other available tool to plot the answer.\n",
    "SUBMISSION INSTRUCTIONS:\n",
    "1. The assignment should be done in a group consisting of a maximum of TW O students.\n",
    "2. The code should follow programming etiquette with appropriate comments.\n",
    "3. Add a README file which includes a description of the code and gives detailed steps to compile and\n",
    "run the code.\n",
    "4. Name your files as config.csv/txt and outputfile.txt.\n",
    "5. Zip all your code as a single file with the name rollno1-rollno2.tar.gz and upload it to Google class\n",
    "room. Only one group member should upload the file.\n",
    "6. Please note that you won’t be allowed to make any changes to the code once submitted. You can only\n",
    "make changes to the topology file. Any changes to the code will result in 20% penalty of total marks. The\n",
    "penalty will increase with the amount of changes done."
   ]
  },
  {
   "cell_type": "markdown",
   "metadata": {
    "id": "sOqrKtqCvfL9"
   },
   "source": [
    "1. Understanding SiLK and Setting Up the Environment\n",
    "Familiarize yourself with the SiLK suite using the provided resources:\n",
    "SiLK Analysis Handbook.\n",
    "SiLK Installation Guide for Ubuntu.\n",
    "Install Ubuntu OS, preferably version 18.04 or higher.\n",
    "Follow the installation steps for the SiLK suite and verify that it works using a small dataset.\n",
    "2. Data Retrieval\n",
    "Download the dataset provided in the link: SiLK Reference Data.\n",
    "Use SiLK commands to filter the data stream to retrieve only the TCP traffic. Focus on commands like rwfilter and rwcut for filtering and viewing the data.\n",
    "3. Classification of Nodes\n",
    "Preprocessing the Data:\n",
    "Parse the filtered TCP data to calculate the amount of TCP traffic handled by each node.\n",
    "Choose Classification Algorithms:\n",
    "Algorithm 1: Use Very Fast Decision Trees (VFDT) to classify nodes based on TCP traffic.\n",
    "Algorithm 2: Use On-Demand Classification for comparison.\n",
    "Group nodes into classes based on packet processing ranges (e.g., 10-100, 101-500 packets/sec).\n",
    "Validate classification accuracy by querying data from at least two different ranges.\n",
    "4. Anomaly Detection\n",
    "Define a threshold for anomalies (e.g., nodes processing >1000 packets/sec).\n",
    "Detect and highlight anomalies in the dataset using statistical methods or custom logic.\n",
    "5. Visualization\n",
    "Use Python libraries like matplotlib or seaborn to:\n",
    "Plot graphs showing classification results.\n",
    "Visualize anomalies in the data."
   ]
  },
  {
   "cell_type": "markdown",
   "metadata": {
    "id": "_BRNPl8zs0FP"
   },
   "source": [
    "Install Required Dependencies:\n",
    "\n",
    "\n",
    "`brew install gcc glib libpcap`\n",
    "\n",
    "```\n",
    "wget https://tools.netsa.cert.org/releases/silk-3.22.0.tar.gz\n",
    "tar -xzf silk-3.22.0.tar.gz\n",
    "cd silk-3.22.0\n",
    "./configure --enable-ipv6 --prefix=/usr/local\n",
    "make\n",
    "sudo make install\n",
    "```\n",
    "\n",
    "\n",
    "Silk Conf. create silk.conf\n",
    "\n",
    "\n",
    "\n",
    "```\n",
    "probe tcp-probe\n",
    "    type netflow-v5\n",
    "    protocol tcp\n",
    "    listen-on-port 18000\n",
    "end probe\n",
    "\n",
    "group all\n",
    "    probes tcp-probe\n",
    "end group\n",
    "\n",
    "sensor my-sensor\n",
    "    description \"Example SiLK sensor\"\n",
    "    group all\n",
    "end sensor\n",
    "\n",
    "class in\n",
    "    sensors my-sensor\n",
    "end class\n",
    "\n",
    "class out\n",
    "    sensors my-sensor\n",
    "end class\n",
    "\n",
    "```\n",
    "\n"
   ]
  },
  {
   "cell_type": "markdown",
   "metadata": {
    "id": "M8TGJ-zKt4_w"
   },
   "source": [
    "Extract Data with SiLK Commands\n",
    "Filter TCP Traffic: Use rwfilter to extract only TCP traffic:\n",
    "\n",
    "```\n",
    "rwfilter --type=in,inweb --protocol=6 --pass=stdout /Users/yourname/silk/*.rw > tcp_traffic.rwf\n",
    "```\n",
    "Format and Export as CSV: Use rwcut to extract the desired fields and export the data as CSV:\n",
    "\n",
    "```\n",
    "rwcut --fields=sip,dip,packets,stime --output-format=csv tcp_traffic.rwf > tcp_traffic.csv\n",
    "```\n"
   ]
  },
  {
   "cell_type": "code",
   "execution_count": 1,
   "metadata": {
    "colab": {
     "base_uri": "https://localhost:8080/"
    },
    "id": "k88ApR0N7YOw",
    "outputId": "b05a37df-9221-43f0-ebb5-8e520a194a97"
   },
   "outputs": [
    {
     "name": "stdout",
     "output_type": "stream",
     "text": [
      "Requirement already satisfied: pandas in /opt/homebrew/Cellar/jupyterlab/4.3.4/libexec/lib/python3.13/site-packages (2.2.3)\n",
      "Requirement already satisfied: numpy>=1.26.0 in /opt/homebrew/Cellar/jupyterlab/4.3.4/libexec/lib/python3.13/site-packages (from pandas) (2.2.0)\n",
      "Requirement already satisfied: python-dateutil>=2.8.2 in /opt/homebrew/Cellar/jupyterlab/4.3.4/libexec/lib/python3.13/site-packages (from pandas) (2.9.0.post0)\n",
      "Requirement already satisfied: pytz>=2020.1 in /opt/homebrew/Cellar/jupyterlab/4.3.4/libexec/lib/python3.13/site-packages (from pandas) (2024.2)\n",
      "Requirement already satisfied: tzdata>=2022.7 in /opt/homebrew/Cellar/jupyterlab/4.3.4/libexec/lib/python3.13/site-packages (from pandas) (2024.2)\n",
      "Requirement already satisfied: six>=1.5 in /opt/homebrew/Cellar/jupyterlab/4.3.4/libexec/lib/python3.13/site-packages (from python-dateutil>=2.8.2->pandas) (1.17.0)\n",
      "Note: you may need to restart the kernel to use updated packages.\n",
      "Requirement already satisfied: scikit-learn in /opt/homebrew/Cellar/jupyterlab/4.3.4/libexec/lib/python3.13/site-packages (1.6.0)\n",
      "Requirement already satisfied: numpy>=1.19.5 in /opt/homebrew/Cellar/jupyterlab/4.3.4/libexec/lib/python3.13/site-packages (from scikit-learn) (2.2.0)\n",
      "Requirement already satisfied: scipy>=1.6.0 in /opt/homebrew/Cellar/jupyterlab/4.3.4/libexec/lib/python3.13/site-packages (from scikit-learn) (1.14.1)\n",
      "Requirement already satisfied: joblib>=1.2.0 in /opt/homebrew/Cellar/jupyterlab/4.3.4/libexec/lib/python3.13/site-packages (from scikit-learn) (1.4.2)\n",
      "Requirement already satisfied: threadpoolctl>=3.1.0 in /opt/homebrew/Cellar/jupyterlab/4.3.4/libexec/lib/python3.13/site-packages (from scikit-learn) (3.5.0)\n",
      "Note: you may need to restart the kernel to use updated packages.\n",
      "Requirement already satisfied: seaborn in /opt/homebrew/Cellar/jupyterlab/4.3.4/libexec/lib/python3.13/site-packages (0.13.2)\n",
      "Requirement already satisfied: numpy!=1.24.0,>=1.20 in /opt/homebrew/Cellar/jupyterlab/4.3.4/libexec/lib/python3.13/site-packages (from seaborn) (2.2.0)\n",
      "Requirement already satisfied: pandas>=1.2 in /opt/homebrew/Cellar/jupyterlab/4.3.4/libexec/lib/python3.13/site-packages (from seaborn) (2.2.3)\n",
      "Requirement already satisfied: matplotlib!=3.6.1,>=3.4 in /opt/homebrew/Cellar/jupyterlab/4.3.4/libexec/lib/python3.13/site-packages (from seaborn) (3.10.0)\n",
      "Requirement already satisfied: contourpy>=1.0.1 in /opt/homebrew/Cellar/jupyterlab/4.3.4/libexec/lib/python3.13/site-packages (from matplotlib!=3.6.1,>=3.4->seaborn) (1.3.1)\n",
      "Requirement already satisfied: cycler>=0.10 in /opt/homebrew/Cellar/jupyterlab/4.3.4/libexec/lib/python3.13/site-packages (from matplotlib!=3.6.1,>=3.4->seaborn) (0.12.1)\n",
      "Requirement already satisfied: fonttools>=4.22.0 in /opt/homebrew/Cellar/jupyterlab/4.3.4/libexec/lib/python3.13/site-packages (from matplotlib!=3.6.1,>=3.4->seaborn) (4.55.3)\n",
      "Requirement already satisfied: kiwisolver>=1.3.1 in /opt/homebrew/Cellar/jupyterlab/4.3.4/libexec/lib/python3.13/site-packages (from matplotlib!=3.6.1,>=3.4->seaborn) (1.4.7)\n",
      "Requirement already satisfied: packaging>=20.0 in /opt/homebrew/Cellar/jupyterlab/4.3.4/libexec/lib/python3.13/site-packages (from matplotlib!=3.6.1,>=3.4->seaborn) (24.2)\n",
      "Requirement already satisfied: pillow>=8 in /opt/homebrew/Cellar/jupyterlab/4.3.4/libexec/lib/python3.13/site-packages (from matplotlib!=3.6.1,>=3.4->seaborn) (11.0.0)\n",
      "Requirement already satisfied: pyparsing>=2.3.1 in /opt/homebrew/Cellar/jupyterlab/4.3.4/libexec/lib/python3.13/site-packages (from matplotlib!=3.6.1,>=3.4->seaborn) (3.2.0)\n",
      "Requirement already satisfied: python-dateutil>=2.7 in /opt/homebrew/Cellar/jupyterlab/4.3.4/libexec/lib/python3.13/site-packages (from matplotlib!=3.6.1,>=3.4->seaborn) (2.9.0.post0)\n",
      "Requirement already satisfied: pytz>=2020.1 in /opt/homebrew/Cellar/jupyterlab/4.3.4/libexec/lib/python3.13/site-packages (from pandas>=1.2->seaborn) (2024.2)\n",
      "Requirement already satisfied: tzdata>=2022.7 in /opt/homebrew/Cellar/jupyterlab/4.3.4/libexec/lib/python3.13/site-packages (from pandas>=1.2->seaborn) (2024.2)\n",
      "Requirement already satisfied: six>=1.5 in /opt/homebrew/Cellar/jupyterlab/4.3.4/libexec/lib/python3.13/site-packages (from python-dateutil>=2.7->matplotlib!=3.6.1,>=3.4->seaborn) (1.17.0)\n",
      "Note: you may need to restart the kernel to use updated packages.\n",
      "Requirement already satisfied: matplotlib in /opt/homebrew/Cellar/jupyterlab/4.3.4/libexec/lib/python3.13/site-packages (3.10.0)\n",
      "Requirement already satisfied: contourpy>=1.0.1 in /opt/homebrew/Cellar/jupyterlab/4.3.4/libexec/lib/python3.13/site-packages (from matplotlib) (1.3.1)\n",
      "Requirement already satisfied: cycler>=0.10 in /opt/homebrew/Cellar/jupyterlab/4.3.4/libexec/lib/python3.13/site-packages (from matplotlib) (0.12.1)\n",
      "Requirement already satisfied: fonttools>=4.22.0 in /opt/homebrew/Cellar/jupyterlab/4.3.4/libexec/lib/python3.13/site-packages (from matplotlib) (4.55.3)\n",
      "Requirement already satisfied: kiwisolver>=1.3.1 in /opt/homebrew/Cellar/jupyterlab/4.3.4/libexec/lib/python3.13/site-packages (from matplotlib) (1.4.7)\n",
      "Requirement already satisfied: numpy>=1.23 in /opt/homebrew/Cellar/jupyterlab/4.3.4/libexec/lib/python3.13/site-packages (from matplotlib) (2.2.0)\n",
      "Requirement already satisfied: packaging>=20.0 in /opt/homebrew/Cellar/jupyterlab/4.3.4/libexec/lib/python3.13/site-packages (from matplotlib) (24.2)\n",
      "Requirement already satisfied: pillow>=8 in /opt/homebrew/Cellar/jupyterlab/4.3.4/libexec/lib/python3.13/site-packages (from matplotlib) (11.0.0)\n",
      "Requirement already satisfied: pyparsing>=2.3.1 in /opt/homebrew/Cellar/jupyterlab/4.3.4/libexec/lib/python3.13/site-packages (from matplotlib) (3.2.0)\n",
      "Requirement already satisfied: python-dateutil>=2.7 in /opt/homebrew/Cellar/jupyterlab/4.3.4/libexec/lib/python3.13/site-packages (from matplotlib) (2.9.0.post0)\n",
      "Requirement already satisfied: six>=1.5 in /opt/homebrew/Cellar/jupyterlab/4.3.4/libexec/lib/python3.13/site-packages (from python-dateutil>=2.7->matplotlib) (1.17.0)\n",
      "Note: you may need to restart the kernel to use updated packages.\n",
      "Collecting scikit-multiflow\n",
      "  Downloading scikit-multiflow-0.5.3.tar.gz (450 kB)\n",
      "  Preparing metadata (setup.py) ... \u001b[?25lerror\n",
      "  \u001b[1;31merror\u001b[0m: \u001b[1msubprocess-exited-with-error\u001b[0m\n",
      "  \n",
      "  \u001b[31m×\u001b[0m \u001b[32mpython setup.py egg_info\u001b[0m did not run successfully.\n",
      "  \u001b[31m│\u001b[0m exit code: \u001b[1;36m1\u001b[0m\n",
      "  \u001b[31m╰─>\u001b[0m \u001b[31m[18 lines of output]\u001b[0m\n",
      "  \u001b[31m   \u001b[0m Traceback (most recent call last):\n",
      "  \u001b[31m   \u001b[0m   File \u001b[35m\"<string>\"\u001b[0m, line \u001b[35m2\u001b[0m, in \u001b[35m<module>\u001b[0m\n",
      "  \u001b[31m   \u001b[0m     \u001b[31mexec\u001b[0m\u001b[1;31m(compile('''\u001b[0m\n",
      "  \u001b[31m   \u001b[0m     \u001b[31m~~~~\u001b[0m\u001b[1;31m^^^^^^^^^^^^\u001b[0m\n",
      "  \u001b[31m   \u001b[0m     \u001b[1;31m# This is <pip-setuptools-caller> -- a caller that pip uses to run setup.py\u001b[0m\n",
      "  \u001b[31m   \u001b[0m     \u001b[1;31m^^^^^^^^^^^^^^^^^^^^^^^^^^^^^^^^^^^^^^^^^^^^^^^^^^^^^^^^^^^^^^^^^^^^^^^^^^^\u001b[0m\n",
      "  \u001b[31m   \u001b[0m     ...<31 lines>...\n",
      "  \u001b[31m   \u001b[0m     \u001b[1;31mexec(compile(setup_py_code, filename, \"exec\"))\u001b[0m\n",
      "  \u001b[31m   \u001b[0m     \u001b[1;31m^^^^^^^^^^^^^^^^^^^^^^^^^^^^^^^^^^^^^^^^^^^^^^\u001b[0m\n",
      "  \u001b[31m   \u001b[0m     \u001b[1;31m''' % ('/private/var/folders/7p/lgqmtnt51dq5x6x0fjxmzfww0000gn/T/pip-install-ve1zmtnc/scikit-multiflow_bb3748655fd8429793810b425069e067/setup.py',), \"<pip-setuptools-caller>\", \"exec\"))\u001b[0m\n",
      "  \u001b[31m   \u001b[0m     \u001b[1;31m^^^^^^^^^^^^^^^^^^^^^^^^^^^^^^^^^^^^^^^^^^^^^^^^^^^^^^^^^^^^^^^^^^^^^^^^^^^^^^^^^^^^^^^^^^^^^^^^^^^^^^^^^^^^^^^^^^^^^^^^^^^^^^^^^^^^^^^^^^^^^^^^^^^^^^^^^^^^^^^^^^^^^^^^^^^^^^^^^^^^^^^^\u001b[0m\n",
      "  \u001b[31m   \u001b[0m   File \u001b[35m\"<pip-setuptools-caller>\"\u001b[0m, line \u001b[35m34\u001b[0m, in \u001b[35m<module>\u001b[0m\n",
      "  \u001b[31m   \u001b[0m   File \u001b[35m\"/private/var/folders/7p/lgqmtnt51dq5x6x0fjxmzfww0000gn/T/pip-install-ve1zmtnc/scikit-multiflow_bb3748655fd8429793810b425069e067/setup.py\"\u001b[0m, line \u001b[35m136\u001b[0m, in \u001b[35m<module>\u001b[0m\n",
      "  \u001b[31m   \u001b[0m     \u001b[31msetup_package\u001b[0m\u001b[1;31m()\u001b[0m\n",
      "  \u001b[31m   \u001b[0m     \u001b[31m~~~~~~~~~~~~~\u001b[0m\u001b[1;31m^^\u001b[0m\n",
      "  \u001b[31m   \u001b[0m   File \u001b[35m\"/private/var/folders/7p/lgqmtnt51dq5x6x0fjxmzfww0000gn/T/pip-install-ve1zmtnc/scikit-multiflow_bb3748655fd8429793810b425069e067/setup.py\"\u001b[0m, line \u001b[35m128\u001b[0m, in \u001b[35msetup_package\u001b[0m\n",
      "  \u001b[31m   \u001b[0m     from numpy.distutils.core import setup\n",
      "  \u001b[31m   \u001b[0m \u001b[1;35mModuleNotFoundError\u001b[0m: \u001b[35mNo module named 'numpy.distutils'\u001b[0m\n",
      "  \u001b[31m   \u001b[0m \u001b[31m[end of output]\u001b[0m\n",
      "  \n",
      "  \u001b[1;35mnote\u001b[0m: This error originates from a subprocess, and is likely not a problem with pip.\n",
      "\u001b[1;31merror\u001b[0m: \u001b[1mmetadata-generation-failed\u001b[0m\n",
      "\n",
      "\u001b[31m×\u001b[0m Encountered error while generating package metadata.\n",
      "\u001b[31m╰─>\u001b[0m See above for output.\n",
      "\n",
      "\u001b[1;35mnote\u001b[0m: This is an issue with the package mentioned above, not pip.\n",
      "\u001b[1;36mhint\u001b[0m: See above for details.\n",
      "Note: you may need to restart the kernel to use updated packages.\n"
     ]
    }
   ],
   "source": [
    "%pip install pandas\n",
    "%pip install scikit-learn\n",
    "%pip install seaborn\n",
    "%pip install matplotlib\n",
    "%pip install scikit-multiflow"
   ]
  },
  {
   "cell_type": "markdown",
   "metadata": {
    "id": "Zub5IcWvvw0Y"
   },
   "source": [
    "on-demand Classification"
   ]
  },
  {
   "cell_type": "code",
   "execution_count": 5,
   "metadata": {
    "colab": {
     "base_uri": "https://localhost:8080/",
     "height": 888
    },
    "id": "6lBM4YxI7YOy",
    "outputId": "76771508-d3a0-4292-9b2b-2af2adcfbe9f"
   },
   "outputs": [
    {
     "name": "stdout",
     "output_type": "stream",
     "text": [
      "Low Traffic Nodes:\n",
      "     SourceIP    DestinationIP  Packets                StartTime OnDemandClass\n",
      "0  10.0.40.53  192.168.121.145        9  2015/06/02T13:39:31.779           Low\n",
      "1  10.0.40.53   192.168.121.77        9  2015/06/02T13:39:44.244           Low\n",
      "2  10.0.40.53   192.168.121.57        9  2015/06/02T13:39:44.369           Low\n",
      "3  10.0.40.53  192.168.121.244        9  2015/06/02T13:39:51.966           Low\n",
      "4  10.0.40.20   192.168.121.57       13  2015/06/02T13:39:54.712           Low\n",
      "Medium Traffic Nodes:\n",
      "           SourceIP  DestinationIP  Packets                StartTime  \\\n",
      "1434     10.0.40.50  192.168.40.50      102  2015/06/02T13:47:20.386   \n",
      "1610     10.0.50.17  192.168.40.20      271  2015/06/02T13:49:18.755   \n",
      "1835     10.0.40.50  192.168.40.50      110  2015/06/02T13:52:25.262   \n",
      "1883     10.0.50.22  192.168.40.20      271  2015/06/02T13:52:35.208   \n",
      "9822  192.168.40.20     10.0.50.17      235  2015/06/02T13:49:18.755   \n",
      "\n",
      "     OnDemandClass  \n",
      "1434        Medium  \n",
      "1610        Medium  \n",
      "1835        Medium  \n",
      "1883        Medium  \n",
      "9822        Medium  \n"
     ]
    },
    {
     "data": {
      "image/png": "[encoded data removed]",
      "text/plain": [
       "<Figure size 640x480 with 1 Axes>"
      ]
     },
     "metadata": {},
     "output_type": "display_data"
    }
   ],
   "source": [
    "import pandas as pd\n",
    "import matplotlib.pyplot as plt\n",
    "\n",
    "import pandas as pd\n",
    "import numpy as np\n",
    "\n",
    "# Load data\n",
    "data = pd.read_csv(\"tcp_data.csv\", names=[\"SourceIP\", \"DestinationIP\", \"Packets\", \"StartTime\"])\n",
    "\n",
    "# On-demand classification using a simple custom classifier\n",
    "class OnDemandClassifier:\n",
    "    def classify(self, packets):\n",
    "        if packets <= 100:\n",
    "            return \"Low\"\n",
    "        elif 101 <= packets <= 1000:\n",
    "            return \"Medium\"\n",
    "        else:\n",
    "            return \"High\"\n",
    "\n",
    "# Apply on-demand classification\n",
    "classifier = OnDemandClassifier()\n",
    "data['OnDemandClass'] = data['Packets'].apply(classifier.classify)\n",
    "\n",
    "# Demonstrate query functionality\n",
    "low_traffic_nodes = data[data['OnDemandClass'] == \"Low\"]\n",
    "print(f\"Low Traffic Nodes:\\n{low_traffic_nodes.head()}\")\n",
    "\n",
    "medium_traffic_nodes = data[data['OnDemandClass'] == \"Medium\"]\n",
    "print(f\"Medium Traffic Nodes:\\n{medium_traffic_nodes.head()}\")\n",
    "\n",
    "\n",
    "# Plot classification distribution\n",
    "traffic_counts = data[\"OnDemandClass\"].value_counts()\n",
    "traffic_counts.plot(kind=\"bar\")\n",
    "plt.title(\" ---- Node Traffic Classification --- \")\n",
    "plt.xlabel(\" Class based on Traffic\")\n",
    "plt.ylabel(\"No. of Nodes\")\n",
    "plt.show()"
   ]
  },
  {
   "cell_type": "markdown",
   "metadata": {
    "id": "pSVGCLsowdJp"
   },
   "source": [
    "***vfdt_implemetation***.  ( We have used river in the below code)"
   ]
  },
  {
   "cell_type": "code",
   "execution_count": 6,
   "metadata": {
    "id": "gMEMJSqAwfGv"
   },
   "outputs": [
    {
     "ename": "ModuleNotFoundError",
     "evalue": "No module named 'skmultiflow'",
     "output_type": "error",
     "traceback": [
      "\u001b[0;31m---------------------------------------------------------------------------\u001b[0m",
      "\u001b[0;31mModuleNotFoundError\u001b[0m                       Traceback (most recent call last)",
      "Cell \u001b[0;32mIn[6], line 2\u001b[0m\n\u001b[1;32m      1\u001b[0m \u001b[38;5;66;03m# replaced with river\u001b[39;00m\n\u001b[0;32m----> 2\u001b[0m \u001b[38;5;28;01mfrom\u001b[39;00m \u001b[38;5;21;01mskmultiflow\u001b[39;00m\u001b[38;5;21;01m.\u001b[39;00m\u001b[38;5;21;01mtrees\u001b[39;00m \u001b[38;5;28;01mimport\u001b[39;00m HoeffdingTree\n\u001b[1;32m      3\u001b[0m \u001b[38;5;28;01mfrom\u001b[39;00m \u001b[38;5;21;01msklearn\u001b[39;00m\u001b[38;5;21;01m.\u001b[39;00m\u001b[38;5;21;01mmetrics\u001b[39;00m \u001b[38;5;28;01mimport\u001b[39;00m accuracy_score\n\u001b[1;32m      4\u001b[0m \u001b[38;5;28;01mimport\u001b[39;00m \u001b[38;5;21;01mpandas\u001b[39;00m \u001b[38;5;28;01mas\u001b[39;00m \u001b[38;5;21;01mpd\u001b[39;00m\n",
      "\u001b[0;31mModuleNotFoundError\u001b[0m: No module named 'skmultiflow'"
     ]
    }
   ],
   "source": [
    "# replaced with river\n",
    "from skmultiflow.trees import HoeffdingTree\n",
    "from sklearn.metrics import accuracy_score\n",
    "import pandas as pd\n",
    "import numpy as np\n",
    "\n",
    "# Load data\n",
    "data = pd.read_csv(\"tcp_data.csv\", names=[\"SourceIP\", \"DestinationIP\", \"Packets\", \"StartTime\"])\n",
    "\n",
    "# Define classification thresholds\n",
    "def classify_traffic(packets):\n",
    "    if packets <= 100:\n",
    "        return 0  # Class 0: Low traffic\n",
    "    elif 101 <= packets <= 1000:\n",
    "        return 1  # Class 1: Medium traffic\n",
    "    else:\n",
    "        return 2  # Class 2: High traffic\n",
    "\n",
    "# Apply classification\n",
    "data[\"TrafficClass\"] = data[\"Packets\"].apply(classify_traffic)\n",
    "\n",
    "# Prepare data for VFDT\n",
    "X = data[[\"Packets\"]].values  # Features: Packets\n",
    "y = data[\"TrafficClass\"].values  # Target: TrafficClass\n",
    "\n",
    "# Split data into training and test sets\n",
    "np.random.seed(42)\n",
    "shuffle_indices = np.random.permutation(len(X))\n",
    "X, y = X[shuffle_indices], y[shuffle_indices]\n",
    "split_index = int(0.8 * len(X))\n",
    "X_train, X_test = X[:split_index], X[split_index:]\n",
    "y_train, y_test = y[:split_index], y[split_index:]\n",
    "\n",
    "# Initialize VFDT model\n",
    "vfdt = HoeffdingTree()\n",
    "\n",
    "# Train the model\n",
    "for i in range(len(X_train)):\n",
    "    vfdt.partial_fit([X_train[i]], [y_train[i]], classes=[0, 1, 2])\n",
    "\n",
    "# Test the model\n",
    "y_pred = []\n",
    "for i in range(len(X_test)):\n",
    "    prediction = vfdt.predict([X_test[i]])\n",
    "    y_pred.append(prediction[0])\n",
    "\n",
    "# Evaluate accuracy\n",
    "accuracy = accuracy_score(y_test, y_pred)\n",
    "print(f\"VFDT Classification Accuracy: {accuracy * 100:.2f}%\")\n",
    "\n",
    "# Save predictions\n",
    "output = pd.DataFrame({\"Packets\": X_test.flatten(), \"TrueClass\": y_test, \"PredictedClass\": y_pred})\n",
    "output.to_csv(\"vfdt_predictions.csv\", index=False)\n",
    "\n",
    "# Query for specific ranges\n",
    "def query_range(data, min_packets, max_packets):\n",
    "    return data[(data[\"Packets\"] >= min_packets) & (data[\"Packets\"] <= max_packets)]\n",
    "\n",
    "range1 = query_range(output, 10, 100)\n",
    "range2 = query_range(output, 500, 1000)\n",
    "\n",
    "print(\"\\nQuery Results for 10-100 Packets:\")\n",
    "print(range1.head())\n",
    "print(\"\\nQuery Results for 500-1000 Packets:\")\n",
    "print(range2.head())"
   ]
  },
  {
   "cell_type": "code",
   "execution_count": 7,
   "metadata": {
    "colab": {
     "base_uri": "https://localhost:8080/"
    },
    "id": "OZ9qCr_ByopQ",
    "outputId": "558fc6ce-f669-430c-ab14-9542e5fafbbe"
   },
   "outputs": [
    {
     "name": "stdout",
     "output_type": "stream",
     "text": [
      "Collecting river\n",
      "  Downloading river-0.22.0-cp313-cp313-macosx_11_0_arm64.whl.metadata (9.0 kB)\n",
      "Requirement already satisfied: numpy>=1.23.0 in /opt/homebrew/Cellar/jupyterlab/4.3.4/libexec/lib/python3.13/site-packages (from river) (2.2.0)\n",
      "Requirement already satisfied: pandas<3.0.0,>=2.2.3 in /opt/homebrew/Cellar/jupyterlab/4.3.4/libexec/lib/python3.13/site-packages (from river) (2.2.3)\n",
      "Requirement already satisfied: scipy<2.0.0,>=1.14.1 in /opt/homebrew/Cellar/jupyterlab/4.3.4/libexec/lib/python3.13/site-packages (from river) (1.14.1)\n",
      "Requirement already satisfied: python-dateutil>=2.8.2 in /opt/homebrew/Cellar/jupyterlab/4.3.4/libexec/lib/python3.13/site-packages (from pandas<3.0.0,>=2.2.3->river) (2.9.0.post0)\n",
      "Requirement already satisfied: pytz>=2020.1 in /opt/homebrew/Cellar/jupyterlab/4.3.4/libexec/lib/python3.13/site-packages (from pandas<3.0.0,>=2.2.3->river) (2024.2)\n",
      "Requirement already satisfied: tzdata>=2022.7 in /opt/homebrew/Cellar/jupyterlab/4.3.4/libexec/lib/python3.13/site-packages (from pandas<3.0.0,>=2.2.3->river) (2024.2)\n",
      "Requirement already satisfied: six>=1.5 in /opt/homebrew/Cellar/jupyterlab/4.3.4/libexec/lib/python3.13/site-packages (from python-dateutil>=2.8.2->pandas<3.0.0,>=2.2.3->river) (1.17.0)\n",
      "Downloading river-0.22.0-cp313-cp313-macosx_11_0_arm64.whl (2.6 MB)\n",
      "\u001b[2K   \u001b[38;2;114;156;31m━━━━━━━━━━━━━━━━━━━━━━━━━━━━━━━━━━━━━━━━\u001b[0m \u001b[32m2.6/2.6 MB\u001b[0m \u001b[31m495.3 kB/s\u001b[0m eta \u001b[36m0:00:00\u001b[0m1m359.3 kB/s\u001b[0m eta \u001b[36m0:00:03\u001b[0m\n",
      "Installing collected packages: river\n",
      "Successfully installed river-0.22.0\n",
      "Note: you may need to restart the kernel to use updated packages.\n"
     ]
    }
   ],
   "source": [
    "%pip install river"
   ]
  },
  {
   "cell_type": "code",
   "execution_count": 10,
   "metadata": {
    "id": "BpmQlj7dyrMS"
   },
   "outputs": [
    {
     "name": "stdout",
     "output_type": "stream",
     "text": [
      "Training the model...\n",
      "Testing the model...\n",
      "VFDT Classification Accuracy: 99.04%\n",
      "\n",
      "Query Results for 10-100 Packets:\n",
      "    Packets  TrueClass  PredictedClass\n",
      "1        12          0               0\n",
      "2        11          0               0\n",
      "4        10          0               0\n",
      "8        11          0               0\n",
      "10       10          0               0\n",
      "Accuracy in this range: 100.00%\n",
      "Number of records: 691292\n",
      "\n",
      "Query Results for 500-1000 Packets:\n",
      "      Packets  TrueClass  PredictedClass\n",
      "2145      937          1               0\n",
      "3208      926          1               0\n",
      "3484      681          1               0\n",
      "3885      681          1               0\n",
      "5292      708          1               0\n",
      "Accuracy in this range: 0.00%\n",
      "Number of records: 1339\n"
     ]
    }
   ],
   "source": [
    "from river import tree\n",
    "from river import metrics\n",
    "import pandas as pd\n",
    "import numpy as np\n",
    "\n",
    "# Load data\n",
    "data = pd.read_csv(\"tcp_data.csv\", names=[\"SourceIP\", \"DestinationIP\", \"Packets\", \"StartTime\"])\n",
    "\n",
    "# Define classification thresholds\n",
    "def classify_traffic(packets):\n",
    "    if packets <= 100:\n",
    "        return 0  # Class 0: Low traffic\n",
    "    elif 101 <= packets <= 1000:\n",
    "        return 1  # Class 1: Medium traffic\n",
    "    else:\n",
    "        return 2  # Class 2: High traffic\n",
    "\n",
    "# Apply classification\n",
    "data[\"TrafficClass\"] = data[\"Packets\"].apply(classify_traffic)\n",
    "\n",
    "# Prepare data for VFDT\n",
    "X = data[[\"Packets\"]].values  # Features: Packets\n",
    "y = data[\"TrafficClass\"].values  # Target: TrafficClass\n",
    "\n",
    "# Split data into training and test sets\n",
    "np.random.seed(42)\n",
    "shuffle_indices = np.random.permutation(len(X))\n",
    "X, y = X[shuffle_indices], y[shuffle_indices]\n",
    "split_index = int(0.8 * len(X))\n",
    "X_train, X_test = X[:split_index], X[split_index:]\n",
    "y_train, y_test = y[:split_index], y[split_index:]\n",
    "\n",
    "# Initialize VFDT model and metric\n",
    "vfdt = tree.HoeffdingTreeClassifier()\n",
    "metric = metrics.Accuracy()  # Initialize the metric\n",
    "\n",
    "# Train the model\n",
    "print(\"Training the model...\")\n",
    "for x, target in zip(X_train, y_train):\n",
    "    x_dict = {\"Packets\": x[0]}  # Convert to River's format\n",
    "    vfdt.learn_one(x_dict, target)\n",
    "\n",
    "# Test the model\n",
    "print(\"Testing the model...\")\n",
    "y_pred = []\n",
    "for x, target in zip(X_test, y_test):\n",
    "    x_dict = {\"Packets\": x[0]}\n",
    "    prediction = vfdt.predict_one(x_dict)\n",
    "    y_pred.append(prediction)\n",
    "    metric.update(target, prediction)  # Don't reassign metric\n",
    "\n",
    "# Get final accuracy\n",
    "accuracy = metric.get()\n",
    "print(f\"VFDT Classification Accuracy: {accuracy * 100:.2f}%\")\n",
    "\n",
    "# Save predictions\n",
    "output = pd.DataFrame({\n",
    "    \"Packets\": X_test.flatten(),\n",
    "    \"TrueClass\": y_test,\n",
    "    \"PredictedClass\": y_pred\n",
    "})\n",
    "output.to_csv(\"vfdt_predictions_river.csv\", index=False)\n",
    "\n",
    "# Query for specific ranges\n",
    "def query_range(data, min_packets, max_packets):\n",
    "    subset = data[(data[\"Packets\"] >= min_packets) & (data[\"Packets\"] <= max_packets)]\n",
    "    if len(subset) == 0:\n",
    "        print(f\"No records found in range {min_packets}-{max_packets}\")\n",
    "    return subset\n",
    "\n",
    "# Analyze results for specific ranges\n",
    "range1 = query_range(output, 10, 100)\n",
    "range2 = query_range(output, 500, 1000)\n",
    "\n",
    "# Print results with additional statistics\n",
    "print(\"\\nQuery Results for 10-100 Packets:\")\n",
    "if not range1.empty:\n",
    "    print(range1.head())\n",
    "    print(f\"Accuracy in this range: {(range1['TrueClass'] == range1['PredictedClass']).mean() * 100:.2f}%\")\n",
    "    print(f\"Number of records: {len(range1)}\")\n",
    "\n",
    "print(\"\\nQuery Results for 500-1000 Packets:\")\n",
    "if not range2.empty:\n",
    "    print(range2.head())\n",
    "    print(f\"Accuracy in this range: {(range2['TrueClass'] == range2['PredictedClass']).mean() * 100:.2f}%\")\n",
    "    print(f\"Number of records: {len(range2)}\")"
   ]
  },
  {
   "cell_type": "markdown",
   "metadata": {
    "id": "pNmf6PI1k1QW"
   },
   "source": [
    "**4. Anomaly Detection**"
   ]
  },
  {
   "cell_type": "code",
   "execution_count": 9,
   "metadata": {
    "id": "hyE35y0H7YOz"
   },
   "outputs": [
    {
     "data": {
      "image/png": "[encoded data removed]",
      "text/plain": [
       "<Figure size 640x480 with 1 Axes>"
      ]
     },
     "metadata": {},
     "output_type": "display_data"
    }
   ],
   "source": [
    "import pandas as pd\n",
    "import matplotlib.pyplot as plt\n",
    "\n",
    "# Load data\n",
    "data = pd.read_csv(\n",
    "    \"tcp_data.csv\", names=[\"SourceIP\", \"DestinationIP\", \"Packets\", \"StartTime\"])\n",
    "\n",
    "\n",
    "anomalies = data[data[\"Packets\"] > 1000]  # Detect anomalies\n",
    "anomalies.to_csv(\"anomalies.csv\", index=False)\n",
    "\n",
    "# Plot anomalies\n",
    "plt.scatter(anomalies[\"SourceIP\"], anomalies[\"Packets\"], color=\"orange\")\n",
    "plt.title(\"--- Anomalous Nodes --- \")\n",
    "plt.xlabel(\"Source IP:\")\n",
    "plt.ylabel(\"Packets:\")\n",
    "plt.show()\n",
    "\n"
   ]
  },
  {
   "cell_type": "code",
   "execution_count": null,
   "metadata": {
    "id": "4clo3QM42ego"
   },
   "outputs": [],
   "source": [
    "plt.scatter(anomalies['SourceIP'], anomalies['Packets'], color='red')\n",
    "plt.title(\"Anomalous Nodes\")\n",
    "plt.xticks(rotation=45)\n",
    "plt.xlabel(\"Source IP\")\n",
    "plt.ylabel(\"Packets\")\n",
    "plt.savefig(\"anomaly_plot.png\")\n",
    "plt.show()"
   ]
  },
  {
   "cell_type": "code",
   "execution_count": null,
   "metadata": {},
   "outputs": [],
   "source": []
  }
 ],
 "metadata": {
  "colab": {
   "provenance": []
  },
  "kernelspec": {
   "display_name": "Python 3 (ipykernel)",
   "language": "python",
   "name": "python3"
  },
  "language_info": {
   "codemirror_mode": {
    "name": "ipython",
    "version": 3
   },
   "file_extension": ".py",
   "mimetype": "text/x-python",
   "name": "python",
   "nbconvert_exporter": "python",
   "pygments_lexer": "ipython3",
   "version": "3.13.1"
  }
 },
 "nbformat": 4,
 "nbformat_minor": 4
}
